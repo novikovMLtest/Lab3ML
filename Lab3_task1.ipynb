{
 "cells": [
  {
   "cell_type": "code",
   "execution_count": 9,
   "metadata": {},
   "outputs": [
    {
     "name": "stdout",
     "output_type": "stream",
     "text": [
      "tensor([-0.1379,  0.1354,  0.0025])\n"
     ]
    }
   ],
   "source": [
    "import torch\n",
    "\n",
    "# Расчёт градиента функции №10\n",
    "\n",
    "def p(u):\n",
    "    return torch.exp(u)/(torch.sum(torch.exp(u))) \n",
    "\n",
    "def grad_example10(u):\n",
    "    u = u.clone()\n",
    "    u.requires_grad_(True)\n",
    "\n",
    "    f = -torch.sum(p(u) * torch.log(p(u))) # * выполняет поэлементное умножение\n",
    "    f.backward()\n",
    "\n",
    "    return u.grad\n",
    "\n",
    "\n",
    "print(grad_example10(torch.tensor([5.,2.,-3.])))"
   ]
  },
  {
   "cell_type": "code",
   "execution_count": null,
   "metadata": {},
   "outputs": [],
   "source": []
  }
 ],
 "metadata": {
  "kernelspec": {
   "display_name": "Python 3",
   "language": "python",
   "name": "python3"
  },
  "language_info": {
   "codemirror_mode": {
    "name": "ipython",
    "version": 3
   },
   "file_extension": ".py",
   "mimetype": "text/x-python",
   "name": "python",
   "nbconvert_exporter": "python",
   "pygments_lexer": "ipython3",
   "version": "3.8.5"
  }
 },
 "nbformat": 4,
 "nbformat_minor": 4
}
